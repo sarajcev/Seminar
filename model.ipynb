{
 "cells": [
  {
   "cell_type": "code",
   "execution_count": null,
   "metadata": {},
   "outputs": [],
   "source": [
    "import timeit\n",
    "import datetime as dt\n",
    "import numpy as np\n",
    "import pandas as pd\n",
    "import matplotlib.pyplot as plt"
   ]
  },
  {
   "cell_type": "code",
   "execution_count": null,
   "metadata": {},
   "outputs": [],
   "source": [
    "try:\n",
    "    import seaborn as sns\n",
    "    # Seaborn style (figure aesthetics only)\n",
    "    sns.set(context='paper', style='whitegrid', font_scale=1.2)\n",
    "    sns.set_style('ticks', {'xtick.direction':'in', 'ytick.direction':'in'})\n",
    "except ImportError:\n",
    "    print('Seaborn not installed. Going without it.')"
   ]
  },
  {
   "cell_type": "code",
   "execution_count": null,
   "metadata": {},
   "outputs": [],
   "source": [
    "from sklearn.model_selection import train_test_split\n",
    "from sklearn.model_selection import cross_val_score\n",
    "from sklearn.model_selection import TimeSeriesSplit\n",
    "from sklearn.model_selection import GridSearchCV\n",
    "from sklearn.ensemble import RandomForestRegressor\n",
    "from sklearn.metrics import mean_absolute_error, mean_squared_error"
   ]
  },
  {
   "cell_type": "markdown",
   "metadata": {},
   "source": [
    "## PV Data\n",
    "\n",
    "5 seconds resolution MiRIS PV from 13/05/2019 to 21/06/2019."
   ]
  },
  {
   "cell_type": "code",
   "execution_count": null,
   "metadata": {},
   "outputs": [],
   "source": [
    "pv = pd.read_csv('miris_pv.csv', index_col=0, parse_dates=True)"
   ]
  },
  {
   "cell_type": "code",
   "execution_count": null,
   "metadata": {},
   "outputs": [],
   "source": [
    "# Resampling the dataset from 5-seconds to 15-minutes resolution (using mean)\n",
    "pv = pv.resample('15min').mean()"
   ]
  },
  {
   "cell_type": "markdown",
   "metadata": {},
   "source": [
    "## Weather Data"
   ]
  },
  {
   "cell_type": "markdown",
   "metadata": {},
   "source": [
    "15-minute resolution weather data\n",
    "\n",
    "The file is composed of forecast of several weather variables:\n",
    "\n",
    "    CD = low clouds (0 to 1)\n",
    "    CM = medium clouds (0 to 1)\n",
    "    CU = high clouds (0 to 1)\n",
    "    PREC = precipitation (mm / 15 min)\n",
    "    RH2m = relative humidity (%)\n",
    "    SNOW = snow height (mm)\n",
    "    ST = Surface Temperature (°C)\n",
    "    SWD = Global Horizontal Irradiance (W/m2)\n",
    "    SWDtop = Total Solar Irradiance at the top of the atmosphere (W/m2)\n",
    "    TT2M = temperature 2 meters above the ground (°C)\n",
    "    WS100m = Wind speed at 100m from the ground (m/s)\n",
    "    WS10m = Wind speed at 10m from the ground (m/s)"
   ]
  },
  {
   "cell_type": "code",
   "execution_count": null,
   "metadata": {},
   "outputs": [],
   "source": [
    "we = pd.read_csv('weather_data.csv', index_col=0, parse_dates=True)"
   ]
  },
  {
   "cell_type": "markdown",
   "metadata": {},
   "source": [
    "#### Cleaning data"
   ]
  },
  {
   "cell_type": "code",
   "execution_count": null,
   "metadata": {},
   "outputs": [],
   "source": [
    "# Dropping SNOW and SWDtop from the dataset\n",
    "we.drop('SNOW', axis=1, inplace=True)\n",
    "we.drop('SWDtop', axis=1, inplace=True)"
   ]
  },
  {
   "cell_type": "code",
   "execution_count": null,
   "metadata": {},
   "outputs": [],
   "source": [
    "# Joining pv production and weather data into single dataframe\n",
    "df = pd.concat([pv, we], axis=1)"
   ]
  },
  {
   "cell_type": "code",
   "execution_count": null,
   "metadata": {},
   "outputs": [],
   "source": [
    "df.dropna(inplace=True)"
   ]
  },
  {
   "cell_type": "code",
   "execution_count": null,
   "metadata": {},
   "outputs": [],
   "source": [
    "df.head()"
   ]
  },
  {
   "cell_type": "markdown",
   "metadata": {},
   "source": [
    "All data is numeric; no need to handle text and categorical features "
   ]
  },
  {
   "cell_type": "code",
   "execution_count": null,
   "metadata": {},
   "outputs": [],
   "source": [
    "# Separating features and labels\n",
    "X = df.drop('PV', axis=1) # Features\n",
    "y = df['PV'] # Labels"
   ]
  },
  {
   "cell_type": "markdown",
   "metadata": {},
   "source": [
    "Currently, features are not scaled"
   ]
  },
  {
   "cell_type": "markdown",
   "metadata": {},
   "source": [
    "#### Selecting and training a model"
   ]
  },
  {
   "cell_type": "code",
   "execution_count": null,
   "metadata": {},
   "outputs": [],
   "source": [
    "# Performing train-test-split \n",
    "X_train, X_test, y_train, y_test = train_test_split(X, y, test_size=0.2)"
   ]
  },
  {
   "cell_type": "code",
   "execution_count": null,
   "metadata": {},
   "outputs": [],
   "source": [
    "# Using Grid Search for tuning Random Forest Regressor hyperparameters\n",
    "time_start = timeit.default_timer()\n",
    "parameters = {'n_estimators': [100, 500, 1000], 'max_depth': [1, 3, None]}\n",
    "rfr_gs = GridSearchCV(estimator=RandomForestRegressor(criterion='mse'),\n",
    "                     param_grid=parameters, cv=TimeSeriesSplit(n_splits=3),\n",
    "                     n_jobs=-1)\n",
    "rfr_gs.fit(X_train, y_train)\n",
    "print(rfr_gs.best_params_)\n",
    "time_end = timeit.default_timer()\n",
    "time_elapsed = time_end - time_start\n",
    "print('Execution time (hour:min:sec): {}'.format(str(dt.timedelta(seconds=time_elapsed))))"
   ]
  },
  {
   "cell_type": "code",
   "execution_count": null,
   "metadata": {},
   "outputs": [],
   "source": [
    "# Choosing optimal hyperparameters from Grid Search output\n",
    "rfr = RandomForestRegressor(criterion='mse', **rfr_gs.best_params_)\n",
    "rfr.fit(X_train, y_train)"
   ]
  },
  {
   "cell_type": "markdown",
   "metadata": {},
   "source": [
    "#### Predicting on test set"
   ]
  },
  {
   "cell_type": "code",
   "execution_count": null,
   "metadata": {},
   "outputs": [],
   "source": [
    "y_preds = rfr.predict(X_test)"
   ]
  },
  {
   "cell_type": "code",
   "execution_count": null,
   "metadata": {},
   "outputs": [],
   "source": [
    "# MAE of predictions\n",
    "mean_absolute_error(y_test, y_preds)"
   ]
  },
  {
   "cell_type": "code",
   "execution_count": null,
   "metadata": {},
   "outputs": [],
   "source": [
    "# Visualize the predicted labels on test set\n",
    "start = 1\n",
    "end = start + 24*4\n",
    "plt.figure(figsize=(15,8))\n",
    "plt.plot(y_preds[start:end], ls='--', label='predictions')\n",
    "plt.plot(y_test.iloc[start:end].values, label='actual')\n",
    "plt.grid()\n",
    "plt.legend();"
   ]
  }
 ],
 "metadata": {
  "kernelspec": {
   "display_name": "Python 3",
   "language": "python",
   "name": "python3"
  },
  "language_info": {
   "codemirror_mode": {
    "name": "ipython",
    "version": 3
   },
   "file_extension": ".py",
   "mimetype": "text/x-python",
   "name": "python",
   "nbconvert_exporter": "python",
   "pygments_lexer": "ipython3",
   "version": "3.7.6"
  }
 },
 "nbformat": 4,
 "nbformat_minor": 2
}
